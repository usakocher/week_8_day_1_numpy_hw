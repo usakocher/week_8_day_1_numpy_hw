{
 "cells": [
  {
   "cell_type": "markdown",
   "metadata": {},
   "source": [
    "# Exercises"
   ]
  },
  {
   "cell_type": "markdown",
   "metadata": {},
   "source": [
    "### #1 - Calculate the BMI (body mass index) on the two lists below using NDArrays..."
   ]
  },
  {
   "cell_type": "code",
   "execution_count": 2,
   "metadata": {},
   "outputs": [
    {
     "name": "stdout",
     "output_type": "stream",
     "text": [
      "[16.86620458 17.87755102 18.82562984 19.71450617 20.54794521 21.32943755\n",
      " 22.06222222]\n"
     ]
    }
   ],
   "source": [
    "import numpy as np\n",
    "# formula = weight / (height**2) * 730\n",
    "height = [69, 70, 71, 72, 73, 74, 75]\n",
    "weight = [110, 120, 130, 140, 150, 160, 170]\n",
    "\n",
    "# OUTPUT: [16.86620458 17.87755102 18.82562984 19.71450617 20.54794521 21.32943755\n",
    "# 22.06222222]\n",
    "\n",
    "h = np.array(height)\n",
    "w = np.array(weight)\n",
    "\n",
    "bmi = (w / (h**2)) * 730\n",
    "print(bmi)"
   ]
  },
  {
   "cell_type": "markdown",
   "metadata": {},
   "source": [
    "### #2 - Create a function that will take in two parameters and will create a random matrix based off of those parameters. Extra: Have additional parameters taken in that allow the user to choose the shape and data type of the matrix."
   ]
  },
  {
   "cell_type": "code",
   "execution_count": 13,
   "metadata": {},
   "outputs": [
    {
     "name": "stdout",
     "output_type": "stream",
     "text": [
      "[[4 1 4 4 9 9 4 8 4]\n",
      " [5 8 3 2 5 0 4 4 7]\n",
      " [5 1 8 2 5 0 9 8 3]\n",
      " [4 1 9 8 5 9 5 5 8]\n",
      " [5 7 3 9 2 0 4 7 7]\n",
      " [9 4 9 8 5 7 4 2 2]\n",
      " [0 7 5 4 8 7 7 9 4]\n",
      " [3 5 1 2 5 5 6 5 2]\n",
      " [1 3 7 5 5 1 7 2 5]]\n"
     ]
    }
   ],
   "source": [
    "\"\"\"\n",
    "Example Result\n",
    "array([[14.21633515,  7.98846653,  9.64140715],\n",
    "       [ 6.30982234,  9.96414331,  8.43153688],\n",
    "       [14.73102068, 11.76072894, 14.23356121]])\n",
    "\"\"\"\n",
    "\n",
    "# def makeMatrix(low,high,shape,data_type = float): -- Example\n",
    "def makeMatrix(low, high, shape = (5,5), data_type = int):\n",
    "    if data_type == int:\n",
    "        M = np.random.randint(low, high, shape)\n",
    "    else:\n",
    "        M = np.random.uniform(low, high, shape)\n",
    "    return M\n",
    "\n",
    "print(makeMatrix(0,10, shape = (9,9)))\n"
   ]
  },
  {
   "cell_type": "markdown",
   "metadata": {},
   "source": [
    "### #3 - Extra: Open and load the data in the two text files that have the Boston Red Sox hitting data for the past seasons. Compare the difference in the two years by putting the data into an NDArray and running a differencial operation on it. The column to look for will be SLG.\n",
    "\n",
    "Your output should display which year (either 2017 or 2018) was a better year based on SLG"
   ]
  },
  {
   "cell_type": "code",
   "execution_count": 15,
   "metadata": {},
   "outputs": [],
   "source": [
    "import csv\n",
    "import numpy as np\n",
    "\n",
    "#Test to make sure you have the correct data\n",
    "\n",
    "\n"
   ]
  },
  {
   "cell_type": "code",
   "execution_count": 18,
   "metadata": {},
   "outputs": [
    {
     "name": "stdout",
     "output_type": "stream",
     "text": [
      "0.39334783\n",
      "0.3875\n"
     ]
    }
   ],
   "source": [
    "\"\"\"\n",
    "Example Result - Not the actual result\n",
    "Boston 18 had more SLG in 2018\n",
    "[0.404 0.443 0.392 0.403 0.482 0.424 0.402 0.459 0.429 0.354 0.387 0.333\n",
    " 0.539 0.243 0.262 0.354 0.342 0.339 0.328 0.306 0.222 0.2   1.   ]\n",
    "\"\"\"\n",
    "\n",
    "FIELDS = ['Rk', 'Pos', 'Name', 'Age', 'G', 'PA', 'AB', 'R', 'H', '2B', '3B', 'HR', 'RBI', 'SB', 'CS', \n",
    "          'BB', 'SO', 'BA', 'OBP', 'SLG', 'OPS', 'OPS+', 'TB', 'GDP', 'HBP', 'SH', 'SF', 'IBB']\n",
    "\n",
    "DATATYPES = [('rk', 'i'), ('pos', '|S25'), ('name', '|S25'), ('age', 'i'), ('g', 'i'), ('pa', 'i'), ('ab', 'i'),\n",
    "                ('r', 'i'), ('h', 'i'), ('2b', 'i'), ('3b', 'i'), ('hr', 'i'), ('rbi', 'i'), ('sb', 'i'), ('cs', 'i'),\n",
    "                ('bb', 'i'), ('so', 'i'), ('ba', 'f'), ('obp', 'f'), ('slg', 'f'), ('ops', 'f'), ('opsp', 'i'),\n",
    "                ('tb', 'i'), ('gdp', 'i'), ('hbp', 'i'), ('sh', 'i'), ('sf', 'i'), ('ibb', 'i')]\n",
    "\n",
    "#Use this function to actually open the data inside of a NDArray\n",
    "\n",
    "def load_data(filepath, d = ','):\n",
    "    data = np.genfromtxt(filepath, delimiter = d, skip_header=1, usecols=np.arange(0,24), \n",
    "                         invalid_raise=False, names = FIELDS, dtype = DATATYPES)\n",
    "    return data\n",
    "\n",
    "bs2017 = load_data('../files/redsox_2017_hitting.txt')\n",
    "bs2018 = load_data('../files/redsox_2018_hitting.txt')\n",
    "\n",
    "slg_17 = np.average(bs2017[\"SLG\"])\n",
    "print(slg_17)\n",
    "slg_18 = np.average(bs2018[\"SLG\"])\n",
    "print(slg_18)\n",
    "\n",
    "# The Red Sox had a higher average slugging percentage in 2017 than 2018"
   ]
  },
  {
   "cell_type": "markdown",
   "metadata": {},
   "source": [
    "# Actual Slugging Percentage Comparison"
   ]
  },
  {
   "cell_type": "code",
   "execution_count": 34,
   "metadata": {},
   "outputs": [
    {
     "name": "stdout",
     "output_type": "stream",
     "text": [
      "0.4076500796883301\n",
      "0.4539614561027837\n",
      "95.71224065651936\n",
      "110.87943719418836\n",
      "0.14928280502921906\n",
      "0.18540328336902212\n",
      "87.29988598199945\n",
      "115.15731886274668\n"
     ]
    }
   ],
   "source": [
    "slg17 = np.sum(bs2017[\"TB\"]) / np.sum(bs2017[\"AB\"])\n",
    "print(slg17)\n",
    "slg18 = np.sum(bs2018[\"TB\"]) / np.sum(bs2018[\"AB\"])\n",
    "print(slg18)\n",
    "\n",
    "'''\n",
    "    So in actuality, the 2018 Boston Red Sox had a higher slugging percentage.\n",
    "    But how do those two teams compare with the rest of the league? We'll see.\n",
    "'''\n",
    "# Calculating the leage average for slugging percentage\n",
    "leagueSLG17 = 70517 / 165567\n",
    "leagueSLG18 = 67731 / 165432\n",
    "\n",
    "# Slugging plus indicates the gap from average. Average = 100 so if it was 110\n",
    "# that person/team would be 10% better than average\n",
    "slgPlus17 = slg17/leagueSLG17 * 100\n",
    "slgPlus18 = slg18/leagueSLG18 * 100\n",
    "print(slgPlus17)\n",
    "print(slgPlus18)\n",
    "\n",
    "'''\n",
    "    With a SLG+ of 96 in 2017, the Red Sox were a slightly below average power team\n",
    "    But with SLG+ of 111 in 2018, the Red Sox were one of the best teams in baseball.\n",
    "    In fact, they had the highest slugging percentage that year. They also got on \n",
    "    base a lot. So was it power or did they have a lot of singles. We'll look at\n",
    "    isolated power. ISO, or isolated power, measures only extra base hits.\n",
    "'''\n",
    "# long way\n",
    "iso2017 = (np.sum(bs2017[\"2B\"]) + (np.sum(bs2017[\"3B\"]) * 2) + (np.sum(bs2017[\"HR\"]) * 3))/np.sum(bs2017[\"AB\"])\n",
    "print(iso2017)\n",
    "iso2018 = (np.sum(bs2018[\"2B\"]) + (np.sum(bs2018[\"3B\"]) * 2) + (np.sum(bs2018[\"HR\"]) * 3))/np.sum(bs2018[\"AB\"])\n",
    "print(iso2018)\n",
    "# They had a higher isolated power in 2018. But how did that compare to the league?\n",
    "# short way = SLG - AVG\n",
    "leagueISO17 = 0.426 - 0.255\n",
    "leagueISO18 = 0.409 - 0.248\n",
    "\n",
    "# So calculating ISO+ gives us a comparison with the league\n",
    "isoPlusBS17 = (iso2017/leagueISO17) * 100\n",
    "isoPlusBS18 = (iso2018/leagueISO18) * 100\n",
    "print(isoPlusBS17)\n",
    "print(isoPlusBS18)\n",
    "\n",
    "'''\n",
    "    So we see that raw power numbers for Boston were even worse in 2017, and even better in 2018 than\n",
    "    we originally thought, more than 15% than league average.\n",
    "'''"
   ]
  },
  {
   "cell_type": "code",
   "execution_count": null,
   "metadata": {},
   "outputs": [],
   "source": []
  }
 ],
 "metadata": {
  "kernelspec": {
   "display_name": "Python 3",
   "language": "python",
   "name": "python3"
  },
  "language_info": {
   "codemirror_mode": {
    "name": "ipython",
    "version": 3
   },
   "file_extension": ".py",
   "mimetype": "text/x-python",
   "name": "python",
   "nbconvert_exporter": "python",
   "pygments_lexer": "ipython3",
   "version": "3.8.8"
  }
 },
 "nbformat": 4,
 "nbformat_minor": 2
}
